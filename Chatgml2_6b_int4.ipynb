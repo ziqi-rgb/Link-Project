{
  "nbformat": 4,
  "nbformat_minor": 0,
  "metadata": {
    "colab": {
      "provenance": [],
      "gpuType": "T4",
      "authorship_tag": "ABX9TyMYZDH3SOSFmHqsIcv3XyDc",
      "include_colab_link": true
    },
    "kernelspec": {
      "name": "python3",
      "display_name": "Python 3"
    },
    "language_info": {
      "name": "python"
    },
    "accelerator": "GPU"
  },
  "cells": [
    {
      "cell_type": "markdown",
      "metadata": {
        "id": "view-in-github",
        "colab_type": "text"
      },
      "source": [
        "<a href=\"https://colab.research.google.com/github/ziqi-rgb/Link-Project/blob/main/Chatgml2_6b_int4.ipynb\" target=\"_parent\"><img src=\"https://colab.research.google.com/assets/colab-badge.svg\" alt=\"Open In Colab\"/></a>"
      ]
    },
    {
      "cell_type": "code",
      "execution_count": null,
      "metadata": {
        "id": "_ozSZqfkytNo"
      },
      "outputs": [],
      "source": [
        "!git clone https://github.com/THUDM/ChatGLM2-6B"
      ]
    },
    {
      "cell_type": "code",
      "source": [
        "%cd /content/ChatGLM2-6B/\n",
        "!pip install -r requirements.txt"
      ],
      "metadata": {
        "id": "Lra4l0FOyxsf"
      },
      "execution_count": null,
      "outputs": []
    },
    {
      "cell_type": "code",
      "source": [
        "!python web_demo.py"
      ],
      "metadata": {
        "id": "-u20JuKhyxvQ"
      },
      "execution_count": null,
      "outputs": []
    }
  ]
}